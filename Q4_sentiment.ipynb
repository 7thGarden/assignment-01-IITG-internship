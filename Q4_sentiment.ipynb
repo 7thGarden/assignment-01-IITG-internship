{
 "cells": [
  {
   "cell_type": "raw",
   "id": "c3c4de41-0fe3-48e4-91c3-901692289be2",
   "metadata": {},
   "source": [
    "Build a model to classify the sentiment of the text data into positive, \n",
    "negative, or neutral categories."
   ]
  },
  {
   "cell_type": "code",
   "execution_count": null,
   "id": "61d37877-660a-4bd9-a921-e22e34ee79d9",
   "metadata": {},
   "outputs": [],
   "source": [
    "import tensorflow as tf\n",
    "from datasets import load_dataset\n",
    "from tensorflow.keras.preprocessing.text import Tokenizer\n",
    "from tensorflow.keras.preprocessing.sequence import pad_sequences\n",
    "import numpy as np\n"
   ]
  },
  {
   "cell_type": "markdown",
   "id": "046cae84-db69-4ec2-a146-c6ca79e0a2f3",
   "metadata": {},
   "source": [
    "# Load Dataset"
   ]
  },
  {
   "cell_type": "code",
   "execution_count": null,
   "id": "3f476a27-31db-47da-a333-cecb06a363e0",
   "metadata": {
    "scrolled": true
   },
   "outputs": [],
   "source": [
    "\n",
    "dataset = load_dataset(\"tweet_eval\", \"sentiment\")\n",
    "\n",
    "\n",
    "train_texts = dataset['train']['text']\n",
    "train_labels = dataset['train']['label']\n",
    "\n",
    "test_texts = dataset['test']['text']\n",
    "test_labels = dataset['test']['label']"
   ]
  },
  {
   "cell_type": "markdown",
   "id": "4d6ef06c-568c-45a2-95ce-36c77d0e7d77",
   "metadata": {},
   "source": [
    "# Preprocess (Tokenize & Pad)"
   ]
  },
  {
   "cell_type": "code",
   "execution_count": null,
   "id": "03244ae8-0961-4727-a197-f4cd5d41665c",
   "metadata": {},
   "outputs": [],
   "source": [
    "vocab_size = 10000\n",
    "max_len = 100\n",
    "oov_token = \"<OOV>\"\n",
    "\n",
    "tokenizer = Tokenizer(num_words=vocab_size, oov_token=oov_token)\n",
    "tokenizer.fit_on_texts(train_texts)\n",
    "\n",
    "x_train = tokenizer.texts_to_sequences(train_texts)\n",
    "x_test = tokenizer.texts_to_sequences(test_texts)\n",
    "\n",
    "x_train = pad_sequences(x_train, maxlen=max_len, padding='post', truncating='post')\n",
    "x_test = pad_sequences(x_test, maxlen=max_len, padding='post', truncating='post')\n",
    "\n",
    "y_train = np.array(train_labels)\n",
    "y_test = np.array(test_labels)\n",
    "\n"
   ]
  },
  {
   "cell_type": "markdown",
   "id": "2b1eb9f1-8564-461c-b310-7f77cc0d3e34",
   "metadata": {},
   "source": [
    "# Build LSTM Model"
   ]
  },
  {
   "cell_type": "code",
   "execution_count": null,
   "id": "0182e48c-2e61-49cc-9712-29236244d974",
   "metadata": {},
   "outputs": [],
   "source": [
    "model = tf.keras.Sequential([\n",
    "    tf.keras.layers.Embedding(input_dim=vocab_size, output_dim=64),  \n",
    "    tf.keras.layers.Bidirectional(tf.keras.layers.LSTM(64)),\n",
    "    tf.keras.layers.Dense(64, activation='relu'),\n",
    "    tf.keras.layers.Dropout(0.5),\n",
    "    tf.keras.layers.Dense(3, activation='softmax')\n",
    "])\n"
   ]
  },
  {
   "cell_type": "markdown",
   "id": "c871a7eb-83bc-4f66-9ef4-a812840a87af",
   "metadata": {},
   "source": [
    "# Compile and Train"
   ]
  },
  {
   "cell_type": "code",
   "execution_count": null,
   "id": "8dd8769c-d465-4c74-8e82-78ca93739d19",
   "metadata": {},
   "outputs": [],
   "source": [
    "model.compile(loss='sparse_categorical_crossentropy', optimizer='adam', metrics=['accuracy'])\n",
    "\n",
    "history = model.fit(x_train, y_train, epochs=5, batch_size=64, validation_data=(x_test, y_test))\n"
   ]
  },
  {
   "cell_type": "markdown",
   "id": "9be4e4f3-267b-4eeb-a5de-de2f89fc977f",
   "metadata": {},
   "source": [
    "# Evaluate"
   ]
  },
  {
   "cell_type": "code",
   "execution_count": null,
   "id": "4ec316e1-da21-45e1-b32e-499e5b96061e",
   "metadata": {},
   "outputs": [],
   "source": [
    "loss, acc = model.evaluate(x_test, y_test)\n",
    "print(f\"Test Accuracy: {acc * 100:.2f}%\")\n"
   ]
  },
  {
   "cell_type": "code",
   "execution_count": null,
   "id": "196f8036-d8e9-45d9-95ae-7d6504e08561",
   "metadata": {},
   "outputs": [],
   "source": [
    "sample_text = input(\"Enter the text: \")\n",
    "sample_seq = tokenizer.texts_to_sequences([sample_text])  \n",
    "sample_pad = pad_sequences(sample_seq, maxlen=max_len, padding='post')\n",
    "\n",
    "pred = model.predict(sample_pad)\n",
    "class_names = ['negative', 'neutral', 'positive']\n",
    "\n",
    "print(f\"{sample_text} => {class_names[np.argmax(pred)]}\")\n"
   ]
  },
  {
   "cell_type": "code",
   "execution_count": null,
   "id": "72d32542-ecf8-43d0-bcc6-4cd0f8552e81",
   "metadata": {},
   "outputs": [],
   "source": []
  }
 ],
 "metadata": {
  "kernelspec": {
   "display_name": "Python 3 (ipykernel)",
   "language": "python",
   "name": "python3"
  },
  "language_info": {
   "codemirror_mode": {
    "name": "ipython",
    "version": 3
   },
   "file_extension": ".py",
   "mimetype": "text/x-python",
   "name": "python",
   "nbconvert_exporter": "python",
   "pygments_lexer": "ipython3",
   "version": "3.11.7"
  }
 },
 "nbformat": 4,
 "nbformat_minor": 5
}
